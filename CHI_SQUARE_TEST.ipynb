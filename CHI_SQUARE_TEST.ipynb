{
  "nbformat": 4,
  "nbformat_minor": 0,
  "metadata": {
    "colab": {
      "provenance": []
    },
    "kernelspec": {
      "name": "python3",
      "display_name": "Python 3"
    },
    "language_info": {
      "name": "python"
    }
  },
  "cells": [
    {
      "cell_type": "markdown",
      "source": [
        "Given Data :\n",
        "\n",
        "| Satisfaction      | Smart Thermostat | Smart Light | Total |\n",
        "|-------------------|------------------|-------------|-------|\n",
        "| Very Satisfied    | 50               | 70          | 120   |\n",
        "| Satisfied         | 80               | 100         | 180   |\n",
        "| Neutral           | 60               | 90          | 150   |\n",
        "| Unsatisfied       | 30               | 50          | 80    |\n",
        "| Very Unsatisfied  | 20               | 50          | 70    |\n",
        "| **Total**         | **240**          | **360**     | **600** |"
      ],
      "metadata": {
        "id": "Q6378Dtx5ppm"
      }
    },
    {
      "cell_type": "code",
      "source": [
        "import numpy as np\n",
        "from scipy.stats import chi2_contingency\n",
        "from scipy.stats import chi2\n",
        "\n",
        "# Given data\n",
        "observed = np.array([[50, 70],\n",
        "                     [80, 100],\n",
        "                     [60, 90],\n",
        "                     [30, 50],\n",
        "                     [20, 50]])\n",
        "\n",
        "# Compute Chi-Square Statistic\n",
        "chi2_stat, p, dof, expected = chi2_contingency(observed)\n",
        "\n",
        "# Degrees of Freedom\n",
        "n_rows, n_cols = observed.shape\n",
        "degrees_of_freedom = (n_rows - 1) * (n_cols - 1)\n",
        "\n",
        "# Determine Critical Value\n",
        "alpha = 0.05\n",
        "critical_value = chi2.ppf(1 - alpha, dof)\n",
        "\n",
        "# Make a Decision\n",
        "if chi2_stat > critical_value:\n",
        "    decision = \"Reject the null hypothesis\"\n",
        "else:\n",
        "    decision = \"Fail to reject the null hypothesis\"\n",
        "\n",
        "# Conclusion\n",
        "if chi2_stat > critical_value:\n",
        "    conclusion = \"There is a significant association between the type of smart home device and customer satisfaction level.\"\n",
        "else:\n",
        "    conclusion = \"There is no significant association between the type of smart home device and customer satisfaction level.\"\n",
        "\n",
        "# Print results\n",
        "print(\"Chi-Square Statistic:\", chi2_stat)\n",
        "print(\"Degrees of Freedom:\", degrees_of_freedom)\n",
        "print(\"Critical Value:\", critical_value)\n",
        "print(\"Decision:\", decision)\n",
        "print(\"Conclusion:\", conclusion)"
      ],
      "metadata": {
        "colab": {
          "base_uri": "https://localhost:8080/"
        },
        "id": "ZaSsahm0Spr1",
        "outputId": "10484917-3ab1-4290-b0c3-83ad38b362eb"
      },
      "execution_count": null,
      "outputs": [
        {
          "output_type": "stream",
          "name": "stdout",
          "text": [
            "Chi-Square Statistic: 5.638227513227513\n",
            "Degrees of Freedom: 4\n",
            "Critical Value: 9.487729036781154\n",
            "Decision: Fail to reject the null hypothesis\n",
            "Conclusion: There is no significant association between the type of smart home device and customer satisfaction level.\n"
          ]
        }
      ]
    }
  ]
}